{
 "cells": [
  {
   "cell_type": "code",
   "execution_count": 3,
   "metadata": {},
   "outputs": [
    {
     "name": "stdout",
     "output_type": "stream",
     "text": [
      "24\n",
      "6\n",
      "{2}\n"
     ]
    }
   ],
   "source": [
    "# Take input of two numbers to find the GCD (Greatest Common Divisor)\n",
    "\n",
    "num1 = int(input())\n",
    "num2 = int(input())\n",
    "def factors(num):\n",
    "    i=2\n",
    "    numlist= list()\n",
    "    while(num>1):\n",
    "        if num%i == 0:\n",
    "            numlist.append(i)\n",
    "            num=num/i\n",
    "        else:\n",
    "            i+=1\n",
    "    return set(numlist)\n",
    "num1set = factors(num1)\n",
    "num2set = factors(num2)\n",
    "print(num1set)\n",
    "print(num2set)"
   ]
  },
  {
   "cell_type": "code",
   "execution_count": null,
   "metadata": {},
   "outputs": [],
   "source": []
  },
  {
   "cell_type": "code",
   "execution_count": null,
   "metadata": {},
   "outputs": [],
   "source": []
  }
 ],
 "metadata": {
  "kernelspec": {
   "display_name": "Python 3",
   "language": "python",
   "name": "python3"
  },
  "language_info": {
   "codemirror_mode": {
    "name": "ipython",
    "version": 3
   },
   "file_extension": ".py",
   "mimetype": "text/x-python",
   "name": "python",
   "nbconvert_exporter": "python",
   "pygments_lexer": "ipython3",
   "version": "3.7.3"
  }
 },
 "nbformat": 4,
 "nbformat_minor": 2
}
