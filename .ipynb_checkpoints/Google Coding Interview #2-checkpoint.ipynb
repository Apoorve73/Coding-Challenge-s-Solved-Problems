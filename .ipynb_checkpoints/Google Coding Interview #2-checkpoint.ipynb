{
 "cells": [
  {
   "cell_type": "code",
   "execution_count": 9,
   "metadata": {},
   "outputs": [
    {
     "name": "stdout",
     "output_type": "stream",
     "text": [
      "24\n",
      "16\n",
      "The GCD of %d and %d is 24 16\n",
      "8\n"
     ]
    }
   ],
   "source": [
    "# Take input of two numbers to find the GCD (Greatest Common Divisor)\n",
    "num1 = int(input())\n",
    "num2 = int(input())\n",
    "print(\"The GCD of %d and %d is\",num1,num2)\n",
    "print(gcd(num1,num2))\n",
    "\n",
    "def gcd(a,b):\n",
    "    if a==0:\n",
    "        return b\n",
    "    if b==0:\n",
    "        return a\n",
    "    if a>b:\n",
    "        return gcd(b,a%b)\n",
    "    if b>a:\n",
    "        return gcd(a,b%a)"
   ]
  },
  {
   "cell_type": "code",
   "execution_count": null,
   "metadata": {},
   "outputs": [],
   "source": []
  },
  {
   "cell_type": "code",
   "execution_count": null,
   "metadata": {},
   "outputs": [],
   "source": []
  }
 ],
 "metadata": {
  "kernelspec": {
   "display_name": "Python 3",
   "language": "python",
   "name": "python3"
  },
  "language_info": {
   "codemirror_mode": {
    "name": "ipython",
    "version": 3
   },
   "file_extension": ".py",
   "mimetype": "text/x-python",
   "name": "python",
   "nbconvert_exporter": "python",
   "pygments_lexer": "ipython3",
   "version": "3.7.3"
  }
 },
 "nbformat": 4,
 "nbformat_minor": 2
}
