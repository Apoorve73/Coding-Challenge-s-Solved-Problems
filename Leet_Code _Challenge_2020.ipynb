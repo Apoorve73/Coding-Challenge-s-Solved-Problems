{
 "cells": [
  {
   "cell_type": "markdown",
   "metadata": {},
   "source": [
    "# Program 1\n",
    "\n",
    "### Given a non-empty array of integers, every element appears twice except for one. Find that single one.\n",
    "\n",
    ">Note:\n",
    "> Your algorithm should have a linear runtime complexity. Could you implement it without using extra memory?\n",
    "\n",
    "### Example:\n",
    "\n",
    "```\n",
    "Input = [2,2,1]\n",
    "\n",
    "Output = 1\n",
    "```"
   ]
  },
  {
   "cell_type": "code",
   "execution_count": 45,
   "metadata": {
    "scrolled": true
   },
   "outputs": [
    {
     "name": "stdout",
     "output_type": "stream",
     "text": [
      ";\n"
     ]
    },
    {
     "ename": "TypeError",
     "evalue": "unsupported operand type(s) for +: 'int' and 'str'",
     "output_type": "error",
     "traceback": [
      "\u001b[0;31m---------------------------------------------------------------------------\u001b[0m",
      "\u001b[0;31mTypeError\u001b[0m                                 Traceback (most recent call last)",
      "\u001b[0;32m<ipython-input-45-3fdb3ee42ad6>\u001b[0m in \u001b[0;36m<module>\u001b[0;34m\u001b[0m\n\u001b[1;32m      7\u001b[0m \u001b[0;34m\u001b[0m\u001b[0m\n\u001b[1;32m      8\u001b[0m \u001b[0mnum_list\u001b[0m \u001b[0;34m=\u001b[0m \u001b[0minput\u001b[0m\u001b[0;34m(\u001b[0m\u001b[0;34m)\u001b[0m\u001b[0;34m\u001b[0m\u001b[0;34m\u001b[0m\u001b[0m\n\u001b[0;32m----> 9\u001b[0;31m \u001b[0moccur_one\u001b[0m\u001b[0;34m(\u001b[0m\u001b[0;34m*\u001b[0m\u001b[0mnum_list\u001b[0m\u001b[0;34m)\u001b[0m\u001b[0;34m\u001b[0m\u001b[0;34m\u001b[0m\u001b[0m\n\u001b[0m",
      "\u001b[0;32m<ipython-input-45-3fdb3ee42ad6>\u001b[0m in \u001b[0;36moccur_one\u001b[0;34m(*args)\u001b[0m\n\u001b[1;32m      3\u001b[0m \u001b[0;34m\u001b[0m\u001b[0m\n\u001b[1;32m      4\u001b[0m     \u001b[0;31m#args = map(int,args)\u001b[0m\u001b[0;34m\u001b[0m\u001b[0;34m\u001b[0m\u001b[0;34m\u001b[0m\u001b[0m\n\u001b[0;32m----> 5\u001b[0;31m     \u001b[0msumm\u001b[0m \u001b[0;34m=\u001b[0m \u001b[0msum\u001b[0m\u001b[0;34m(\u001b[0m\u001b[0margs\u001b[0m\u001b[0;34m)\u001b[0m\u001b[0;34m\u001b[0m\u001b[0;34m\u001b[0m\u001b[0m\n\u001b[0m\u001b[1;32m      6\u001b[0m     \u001b[0mprint\u001b[0m\u001b[0;34m(\u001b[0m\u001b[0msumm\u001b[0m\u001b[0;34m)\u001b[0m\u001b[0;34m\u001b[0m\u001b[0;34m\u001b[0m\u001b[0m\n\u001b[1;32m      7\u001b[0m \u001b[0;34m\u001b[0m\u001b[0m\n",
      "\u001b[0;31mTypeError\u001b[0m: unsupported operand type(s) for +: 'int' and 'str'"
     ]
    }
   ],
   "source": [
    "from collections import Counter\n",
    "\n",
    "inp = list(input())\n",
    "inp.pop(0)\n",
    "inp.pop(-1)\n",
    "del(inp[1::2])\n",
    "inp = list(map(int,inp))\n",
    "\n",
    "print(2*sum(inp)\n",
    "        "
   ]
  },
  {
   "cell_type": "markdown",
   "metadata": {},
   "source": [
    "# Program2\n",
    "\n",
    "### Find cube of each elemnts of a list using *args and list comprehension"
   ]
  },
  {
   "cell_type": "code",
   "execution_count": 46,
   "metadata": {},
   "outputs": [
    {
     "name": "stdout",
     "output_type": "stream",
     "text": [
      "<class 'int'>\n"
     ]
    }
   ],
   "source": [
    "print(type(4))"
   ]
  },
  {
   "cell_type": "code",
   "execution_count": 36,
   "metadata": {},
   "outputs": [
    {
     "name": "stdout",
     "output_type": "stream",
     "text": [
      "[1, 8, 27]\n"
     ]
    }
   ],
   "source": [
    "def power_tocube(*args):  #unpacked elements stored as tuple\n",
    "    nums = list(args)\n",
    "    num_cube = [num**3 for num in nums]\n",
    "    print(num_cube)\n",
    "    \n",
    "nums = [1,2,3]\n",
    "\n",
    "power_tocube(*nums)  #unpacking elements in the list passed\n"
   ]
  },
  {
   "cell_type": "markdown",
   "metadata": {},
   "source": [
    "## Program3 \n",
    "\n",
    "### Given an integer array nums, find the contiguous subarray (containing at least one number) which has the largest sum and return its sum.\n",
    "\n",
    "### Exapmle :\n",
    "``` \n",
    "Input = [-2,1,-3,4,-1,2,1,-5,4]\n",
    "Output = [4,-1,2,1]\n",
    "```"
   ]
  },
  {
   "cell_type": "code",
   "execution_count": 23,
   "metadata": {},
   "outputs": [
    {
     "name": "stdout",
     "output_type": "stream",
     "text": [
      "6\n"
     ]
    }
   ],
   "source": [
    "# Kadane's Algorithm\n",
    "\n",
    "inp = [-2,1,-3,4,-1,2,1,-5,4]\n",
    "\n",
    "zero = 0\n",
    "hero = 0\n",
    "\n",
    "for num in inp:\n",
    "    zero = zero + num\n",
    "    if zero < 0:\n",
    "        zero = 0\n",
    "    elif hero < zero:\n",
    "        hero = zero\n",
    "        \n",
    "print(hero)"
   ]
  },
  {
   "cell_type": "raw",
   "metadata": {},
   "source": [
    "Using recursion!"
   ]
  },
  {
   "cell_type": "code",
   "execution_count": 35,
   "metadata": {},
   "outputs": [
    {
     "name": "stdout",
     "output_type": "stream",
     "text": [
      "-2\n",
      "0\n",
      "-2\n",
      "1\n",
      "None\n"
     ]
    }
   ],
   "source": [
    "def func(l, hero, zero, *args):\n",
    "    args = list(args)\n",
    "    zero = zero + args[l]\n",
    "    \n",
    "    if zero < 0 and l < len(args):\n",
    "        print(zero)\n",
    "        func(l+1, hero, 0, *args)\n",
    "        \n",
    "    elif hero < zero and l < len(args):\n",
    "        print(hero)\n",
    "        func(l+1, zero, zero, *args)\n",
    "        \n",
    "    elif l >= len(args):\n",
    "        return hero\n",
    "\n",
    "inp = [-2,1,-3,4,-1,2,1,-5,4]\n",
    "\n",
    "zero = 0\n",
    "hero = 0\n",
    "l = 0\n",
    "    \n",
    "ans = func(0, 0, 0, *inp)\n",
    "print(ans)"
   ]
  },
  {
   "cell_type": "code",
   "execution_count": null,
   "metadata": {},
   "outputs": [],
   "source": []
  }
 ],
 "metadata": {
  "kernelspec": {
   "display_name": "Python 3",
   "language": "python",
   "name": "python3"
  },
  "language_info": {
   "codemirror_mode": {
    "name": "ipython",
    "version": 3
   },
   "file_extension": ".py",
   "mimetype": "text/x-python",
   "name": "python",
   "nbconvert_exporter": "python",
   "pygments_lexer": "ipython3",
   "version": "3.7.3"
  }
 },
 "nbformat": 4,
 "nbformat_minor": 2
}
