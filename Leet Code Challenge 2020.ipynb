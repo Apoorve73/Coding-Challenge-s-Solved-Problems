{
 "cells": [
  {
   "cell_type": "markdown",
   "metadata": {},
   "source": [
    "# Program 1\n",
    "\n",
    "### Given a non-empty array of integers, every element appears twice except for one. Find that single one.\n",
    "\n",
    ">Note:\n",
    "> Your algorithm should have a linear runtime complexity. Could you implement it without using extra memory?\n",
    "\n",
    "### Example:\n",
    "\n",
    "```\n",
    "Input = [2,2,1]\n",
    "\n",
    "Output = 1\n",
    "```"
   ]
  },
  {
   "cell_type": "code",
   "execution_count": 47,
   "metadata": {
    "scrolled": true
   },
   "outputs": [
    {
     "name": "stdout",
     "output_type": "stream",
     "text": [
      "[2,2,1]\n",
      "1\n"
     ]
    }
   ],
   "source": [
    "from collections import Counter\n",
    "\n",
    "inp = list(input())\n",
    "inp.pop(0)\n",
    "inp.pop(-1)\n",
    "del(inp[1::2])\n",
    "inp = list(map(int,inp))\n",
    "\n",
    "print(2*sum(set(inp)) - sum(inp))\n",
    "        "
   ]
  },
  {
   "cell_type": "markdown",
   "metadata": {},
   "source": [
    "# Program2\n",
    "\n",
    "### Find cube of each elemnts of a list using *args and list comprehension"
   ]
  },
  {
   "cell_type": "code",
   "execution_count": 36,
   "metadata": {},
   "outputs": [
    {
     "name": "stdout",
     "output_type": "stream",
     "text": [
      "[1, 8, 27]\n"
     ]
    }
   ],
   "source": [
    "def power_tocube(*args):  #unpacked elements stored as tuple\n",
    "    nums = list(args)\n",
    "    num_cube = [num**3 for num in nums]\n",
    "    print(num_cube)\n",
    "    \n",
    "nums = [1,2,3]\n",
    "\n",
    "power_tocube(*nums)  #unpacking elements in the list passed\n"
   ]
  },
  {
   "cell_type": "markdown",
   "metadata": {},
   "source": [
    "## Program3 \n",
    "\n",
    "### Given an integer array nums, find the contiguous subarray (containing at least one number) which has the largest sum and return its sum.\n",
    "\n",
    "### Exapmle :\n",
    "``` \n",
    "Input = [-2,1,-3,4,-1,2,1,-5,4]\n",
    "Output = [4,-1,2,1]\n",
    "```"
   ]
  },
  {
   "cell_type": "code",
   "execution_count": 64,
   "metadata": {},
   "outputs": [
    {
     "name": "stdout",
     "output_type": "stream",
     "text": [
      "-1\n"
     ]
    }
   ],
   "source": [
    "# Kadane's Algorithm\n",
    "def func(zero, hero, inp):\n",
    "    for num in inp:\n",
    "        zero = zero + num\n",
    "        if zero < 0:\n",
    "            zero = 0\n",
    "        elif hero < zero:\n",
    "            hero = zero\n",
    "    return hero\n",
    "\n",
    "inp = [-2, -3, -4, -1, -2, -1, -5, -3]\n",
    "zero = 0\n",
    "hero = 0\n",
    "\n",
    "if max(inp)<0:\n",
    "    print(max(inp))\n",
    "else:\n",
    "    print(func(zero,hero,num))"
   ]
  },
  {
   "cell_type": "code",
   "execution_count": 90,
   "metadata": {},
   "outputs": [
    {
     "name": "stdout",
     "output_type": "stream",
     "text": [
      "3\n",
      "4\n",
      "-1\n",
      "-2\n",
      "1\n",
      "-5\n",
      "-3\n",
      "Sum = 7\n"
     ]
    }
   ],
   "source": [
    "# Kadane's Algorithm\n",
    "def func(zero, hero, counter, start, end, inp):\n",
    "    for i in range(len(inp)):\n",
    "        zero = zero + inp[i]\n",
    "        if zero < 0:\n",
    "            zero = 0\n",
    "            counter = i+1\n",
    "        elif hero < zero:\n",
    "            hero = zero\n",
    "            start = counter\n",
    "            end = i\n",
    "    print(\"Subarray elements are a follows\")\n",
    "    for j in range(0, i):\n",
    "        print(inp[j+start])\n",
    "    return hero\n",
    "\n",
    "inp = [-2, 3, 4, -1, -2, 1, -5, -3]\n",
    "zero = 0\n",
    "hero = 0\n",
    "counter = 0\n",
    "start = 0\n",
    "end = 0\n",
    "if max(inp)<0:\n",
    "    print(max(inp))\n",
    "else:\n",
    "    print(\"Sum =\", func(zero,hero, counter, start, end, inp))"
   ]
  },
  {
   "cell_type": "code",
   "execution_count": null,
   "metadata": {},
   "outputs": [],
   "source": []
  }
 ],
 "metadata": {
  "kernelspec": {
   "display_name": "Python 3",
   "language": "python",
   "name": "python3"
  },
  "language_info": {
   "codemirror_mode": {
    "name": "ipython",
    "version": 3
   },
   "file_extension": ".py",
   "mimetype": "text/x-python",
   "name": "python",
   "nbconvert_exporter": "python",
   "pygments_lexer": "ipython3",
   "version": "3.7.3"
  }
 },
 "nbformat": 4,
 "nbformat_minor": 2
}
