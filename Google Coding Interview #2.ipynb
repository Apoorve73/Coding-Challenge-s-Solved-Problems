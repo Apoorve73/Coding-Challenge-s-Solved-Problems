{
 "cells": [
  {
   "cell_type": "markdown",
   "metadata": {},
   "source": [
    "The Euclidean Algorithm\n",
    "\n",
    "The Euclidean Algorithm for finding GCD(A,B) is as follows:\n",
    "If A = 0 then GCD(A,B)=B, since the GCD(0,B)=B, and we can stop.  \n",
    "If B = 0 then GCD(A,B)=A, since the GCD(A,0)=A, and we can stop.  \n",
    "Write A in quotient remainder form (A = B⋅Q + R)\n",
    "Find GCD(B,R) using the Euclidean Algorithm since GCD(A,B) = GCD(B,R)"
   ]
  },
  {
   "cell_type": "code",
   "execution_count": 9,
   "metadata": {},
   "outputs": [
    {
     "name": "stdout",
     "output_type": "stream",
     "text": [
      "24\n",
      "16\n",
      "The GCD of %d and %d is 24 16\n",
      "8\n"
     ]
    }
   ],
   "source": [
    "# Take input of two numbers to find the GCD (Greatest Common Divisor)\n",
    "num1 = int(input())\n",
    "num2 = int(input())\n",
    "print(\"The GCD of %d and %d is\",num1,num2)\n",
    "print(gcd(num1,num2))\n",
    "\n",
    "def gcd(a,b):\n",
    "    if a==0:\n",
    "        return b\n",
    "    if b==0:\n",
    "        return a\n",
    "    if a>b:\n",
    "        return gcd(b,a%b)\n",
    "    if b>a:\n",
    "        return gcd(a,b%a)"
   ]
  }
 ],
 "metadata": {
  "kernelspec": {
   "display_name": "Python 3",
   "language": "python",
   "name": "python3"
  },
  "language_info": {
   "codemirror_mode": {
    "name": "ipython",
    "version": 3
   },
   "file_extension": ".py",
   "mimetype": "text/x-python",
   "name": "python",
   "nbconvert_exporter": "python",
   "pygments_lexer": "ipython3",
   "version": "3.7.3"
  }
 },
 "nbformat": 4,
 "nbformat_minor": 2
}
