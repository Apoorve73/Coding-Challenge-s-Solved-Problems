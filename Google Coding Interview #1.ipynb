{
 "cells": [
  {
   "cell_type": "code",
   "execution_count": 15,
   "metadata": {
    "scrolled": true
   },
   "outputs": [
    {
     "name": "stdout",
     "output_type": "stream",
     "text": [
      "2 3 5 6 8 8 9\n",
      "11\n",
      "9\n"
     ]
    }
   ],
   "source": [
    "#Given an array of sorted integers, find the closest value to the given number. Aray may contain duplicate values\n",
    "#and negative numbers\n",
    "def result():\n",
    "    if(order[ind+1]-order[ind] > order[ind]- order[ind-1]):\n",
    "        print(order[ind-1])\n",
    "        \n",
    "    elif(order[ind]-order[ind-1] >= order[ind+1]- order[ind]):\n",
    "        print(order[ind+1])\n",
    "        \n",
    "order = input()\n",
    "order=order.split()\n",
    "order = list(map(int,order))\n",
    "\n",
    "target=int(input())\n",
    "\n",
    "order.append(target)\n",
    "order.sort()\n",
    "ind = order.index(target)\n",
    "\n",
    "if(ind == len(order)-1):\n",
    "    print(order[ind-1]) # check if the target is append to te last of order \n",
    "    \n",
    "elif(ind == 0):\n",
    "    print(order[1])  # check if the target is append to the zeroth index \n",
    "    \n",
    "else:\n",
    "    result()\n"
   ]
  },
  {
   "cell_type": "code",
   "execution_count": null,
   "metadata": {},
   "outputs": [],
   "source": []
  }
 ],
 "metadata": {
  "kernelspec": {
   "display_name": "Python 3",
   "language": "python",
   "name": "python3"
  },
  "language_info": {
   "codemirror_mode": {
    "name": "ipython",
    "version": 3
   },
   "file_extension": ".py",
   "mimetype": "text/x-python",
   "name": "python",
   "nbconvert_exporter": "python",
   "pygments_lexer": "ipython3",
   "version": "3.7.3"
  }
 },
 "nbformat": 4,
 "nbformat_minor": 2
}
