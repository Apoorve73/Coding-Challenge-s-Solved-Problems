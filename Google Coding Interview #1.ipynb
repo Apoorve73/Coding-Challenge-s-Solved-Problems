{
 "cells": [
  {
   "cell_type": "code",
   "execution_count": 23,
   "metadata": {},
   "outputs": [
    {
     "name": "stdout",
     "output_type": "stream",
     "text": [
      "2 -3 -4 8 56 -84\n",
      "-2\n",
      "-3\n"
     ]
    }
   ],
   "source": [
    "#Given an array of sorted integers, find the closest value to the given number. Aray may contain duplicate values\n",
    "#and negative numbers\n",
    "\n",
    "order = input()\n",
    "order=order.split()\n",
    "order = list(map(int,order))\n",
    "target=int(input())\n",
    "order.append(target)\n",
    "order.sort()\n",
    "ind = order.index(target)\n",
    "while(1):\n",
    "    if(order[ind+1]-order[ind] > order[ind]- order[ind-1]):\n",
    "        \n",
    "        print(order[ind-1])\n",
    "        break\n",
    "    else:\n",
    "        print(order[ind+1])\n",
    "        break"
   ]
  }
 ],
 "metadata": {
  "kernelspec": {
   "display_name": "Python 3",
   "language": "python",
   "name": "python3"
  },
  "language_info": {
   "codemirror_mode": {
    "name": "ipython",
    "version": 3
   },
   "file_extension": ".py",
   "mimetype": "text/x-python",
   "name": "python",
   "nbconvert_exporter": "python",
   "pygments_lexer": "ipython3",
   "version": "3.7.3"
  }
 },
 "nbformat": 4,
 "nbformat_minor": 2
}
